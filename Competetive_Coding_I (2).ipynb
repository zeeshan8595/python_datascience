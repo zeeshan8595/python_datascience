{
 "cells": [
  {
   "cell_type": "markdown",
   "metadata": {
    "id": "XA-b8BLzYrbe"
   },
   "source": [
    "\n",
    "# Time : 1 hour\n",
    "\n",
    "# Problem Statement"
   ]
  },
  {
   "cell_type": "markdown",
   "metadata": {
    "id": "soIV-F7Wcbp3"
   },
   "source": [
    "### A student is taking a cryptography class and has found anagrams to be very useful. Two strings are anagrams of each other if the first string's letters can be rearranged to form the second string. In other words, both strings must contain the same exact letters in the same exact frequency. For example, bacdc and dcbac are anagrams, but bacdc and dcbad are not.\n",
    "\n",
    "### The student decides on an encryption scheme that involves two large strings. The encryption is dependent on the minimum number of character deletions required to make the two strings anagrams. You need to determine this number.\n",
    "\n",
    "### Given two strings, $a$ and $b$, that may or may not be of the same length, determine the minimum number of character deletions required to make $a$ and $b$ anagrams. Any characters can be deleted from either of the strings. The strings $a$ and $b$ consist of lowercase English alphabets."
   ]
  },
  {
   "cell_type": "markdown",
   "metadata": {
    "id": "TS0zgz0PcfYz"
   },
   "source": [
    "**Example**\n",
    "\n",
    "<code>a = 'cde'</code>\n",
    "\n",
    "<code>b = 'dcf' </code>"
   ]
  },
  {
   "cell_type": "markdown",
   "metadata": {
    "id": "kxZ3mdXsckZm"
   },
   "source": [
    "### Delete $e$ from $a$ and $f$ from $b$ so that the remaining strings are $cd$ and $dc$ which are anagrams. This takes 2 character deletions."
   ]
  },
  {
   "cell_type": "markdown",
   "metadata": {
    "id": "1QlkSP3KcozS"
   },
   "source": [
    "## **Function Description**\n",
    "\n",
    "### Create a <code>makeAnagram</code> function below.\n",
    "\n",
    "### **Inputs:**\n",
    "\n",
    "### string a: a string\n",
    "\n",
    "### string b: another string\n",
    "\n",
    "### **Output:**\n",
    "\n",
    "### int: the minimum total characters that must be deleted"
   ]
  },
  {
   "cell_type": "markdown",
   "metadata": {
    "id": "-woYEa44Z-Cf"
   },
   "source": [
    "# Solution"
   ]
  },
  {
   "cell_type": "code",
   "execution_count": 140,
   "metadata": {
    "id": "sJ6O2MtIZ9dP"
   },
   "outputs": [],
   "source": [
    "class anagram():\n",
    "    def __init__(self,string1,string2):\n",
    "        self.string1=string1\n",
    "        self.string2=string2\n",
    "        \n",
    "        \n",
    "    def make_anagram(self):\n",
    "        tt=''\n",
    "        count=0\n",
    "        tt1=''\n",
    "        for i in range(0,len(self.string1)):\n",
    "            for j in range(len(self.string2)):\n",
    "                if self.string1[i] == self.string2[j]:\n",
    "                    tt=tt+self.string1[i]\n",
    "        \n",
    "        for i in range(0,len(self.string2)):\n",
    "            for j in range(len(self.string1)):\n",
    "                if self.string2[i] == self.string1[j]:\n",
    "                    tt1=tt1+self.string2[i]\n",
    "        \n",
    "        \n",
    "        \n",
    "        print(tt)\n",
    "        count1=len(self.string1)-len(tt)\n",
    "        count2=len(self.string2)-len(tt1)\n",
    "        count=count1+count2\n",
    "        print('the minimum total characters that must be deleted is {}'.format(count))"
   ]
  },
  {
   "cell_type": "code",
   "execution_count": 143,
   "metadata": {
    "id": "COgSp7CXYczM"
   },
   "outputs": [],
   "source": [
    "z=anagram('cde','dcf')\n"
   ]
  },
  {
   "cell_type": "code",
   "execution_count": 144,
   "metadata": {},
   "outputs": [
    {
     "name": "stdout",
     "output_type": "stream",
     "text": [
      "cd\n",
      "the minimum total characters that must be deleted is 2\n"
     ]
    }
   ],
   "source": [
    "z.make_anagram()"
   ]
  },
  {
   "cell_type": "code",
   "execution_count": null,
   "metadata": {},
   "outputs": [],
   "source": []
  }
 ],
 "metadata": {
  "colab": {
   "collapsed_sections": [],
   "name": "Competetive Coding I.ipynb",
   "provenance": []
  },
  "kernelspec": {
   "display_name": "Python 3 (ipykernel)",
   "language": "python",
   "name": "python3"
  },
  "language_info": {
   "codemirror_mode": {
    "name": "ipython",
    "version": 3
   },
   "file_extension": ".py",
   "mimetype": "text/x-python",
   "name": "python",
   "nbconvert_exporter": "python",
   "pygments_lexer": "ipython3",
   "version": "3.9.7"
  }
 },
 "nbformat": 4,
 "nbformat_minor": 1
}
