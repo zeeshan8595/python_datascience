{
 "cells": [
  {
   "cell_type": "markdown",
   "metadata": {
    "id": "rtBrwN-Aexbo"
   },
   "source": [
    "Given a list of n lists, write a function which returns the intersection of all the n lists. Each list can have any number of elements.\n",
    "\n",
    "Example 1:\n",
    "\n",
    "```\n",
    "input = [[5, 5, 5, 8, 10], \n",
    "      [5, 5, 7, 8], \n",
    "      [5, 5, 8, 9, 11]]\n",
    "```\n",
    "\n",
    "```\n",
    "output = [5, 5, 8]\n",
    "```\n",
    "\n",
    "Example 2:\n",
    "\n",
    "```\n",
    "input = [[5, 6], \n",
    "      [5, 5, 7, 8], \n",
    "      [5, 5, 8, 9]]\n",
    "```\n",
    "\n",
    "\n",
    "```\n",
    "output = [5]\n",
    "```"
   ]
  },
  {
   "cell_type": "code",
   "execution_count": null,
   "metadata": {
    "id": "ySrUvKvo_uPO"
   },
   "outputs": [],
   "source": [
    "input = [[5, 5, 5, 8, 10], \n",
    "      [5, 5, 7, 8], \n",
    "      [5, 5, 8, 9, 11]]"
   ]
  },
  {
   "cell_type": "code",
   "execution_count": null,
   "metadata": {
    "id": "7tt_clCaryyb"
   },
   "outputs": [],
   "source": [
    "#Let's start developing a logic"
   ]
  },
  {
   "cell_type": "code",
   "execution_count": null,
   "metadata": {
    "id": "MlyxyeFsr2Wg"
   },
   "outputs": [],
   "source": [
    "list_of_lists = [[5, 5, 5, 8, 10], \n",
    "      [5, 5, 7, 8], \n",
    "      [5, 5, 8, 9, 11]]"
   ]
  },
  {
   "cell_type": "code",
   "execution_count": null,
   "metadata": {
    "id": "onvIlsJN05qR"
   },
   "outputs": [],
   "source": [
    "def intersection_of_lists(list_of_lists):\n",
    "  list_of_dicts = []\n",
    "\n",
    "  for temp_list in list_of_lists:\n",
    "    d = {}\n",
    "    for i in range(len(temp_list)):\n",
    "      if temp_list[i] in d.keys():\n",
    "        d[temp_list[i]] = d[temp_list[i]] + 1\n",
    "\n",
    "      else:\n",
    "        d[temp_list[i]] = 1\n",
    "\n",
    "    list_of_dicts.append(d)\n",
    "\n",
    "  keys = []\n",
    "  for l in list_of_dicts:\n",
    "    keys.append(list(l.keys()))\n",
    "\n",
    "  keys_flatten = []\n",
    "  for key in keys:\n",
    "    for item in key:\n",
    "      keys_flatten.append(item)\n",
    "\n",
    "  keys = set(keys_flatten)\n",
    "\n",
    "  keys_list = list(keys)\n",
    "  for l in list_of_dicts:\n",
    "    l_keys = list(l.keys())\n",
    "    new_keys = list(set(keys_list) - set(l_keys))\n",
    "\n",
    "    for j in new_keys:\n",
    "      l[j] = 0\n",
    "\n",
    "  df = pd.DataFrame(list_of_dicts)\n",
    "\n",
    "  final_dict = {}\n",
    "\n",
    "  for i in keys:\n",
    "    final_dict[i] = min(df[i])\n",
    "\n",
    "  final_list = []\n",
    "\n",
    "  for key, value in final_dict.items():\n",
    "    \n",
    "    for i in range(value):\n",
    "      final_list.append(key)\n",
    "\n",
    "  return final_list"
   ]
  },
  {
   "cell_type": "code",
   "execution_count": null,
   "metadata": {
    "colab": {
     "base_uri": "https://localhost:8080/"
    },
    "id": "EcOfkSOO05ax",
    "outputId": "636a371f-368d-458a-c22c-8b9145a46f7c"
   },
   "outputs": [
    {
     "data": {
      "text/plain": [
       "[5, 5, 8]"
      ]
     },
     "execution_count": 131,
     "metadata": {},
     "output_type": "execute_result"
    }
   ],
   "source": [
    "intersection_of_lists(list_of_lists)"
   ]
  }
 ],
 "metadata": {
  "colab": {
   "collapsed_sections": [],
   "name": "Copy of Guided Project - Intersection of Lists.ipynb",
   "provenance": []
  },
  "kernelspec": {
   "display_name": "Python 3 (ipykernel)",
   "language": "python",
   "name": "python3"
  },
  "language_info": {
   "codemirror_mode": {
    "name": "ipython",
    "version": 3
   },
   "file_extension": ".py",
   "mimetype": "text/x-python",
   "name": "python",
   "nbconvert_exporter": "python",
   "pygments_lexer": "ipython3",
   "version": "3.9.7"
  }
 },
 "nbformat": 4,
 "nbformat_minor": 1
}
