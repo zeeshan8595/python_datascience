{
 "cells": [
  {
   "cell_type": "markdown",
   "metadata": {
    "id": "uCEngv6FHnnb"
   },
   "source": [
    "## Loops are important in Python or in any other programming language as they help you to execute a block of code repeatedly. You will often come face to face with situations where you would need to use a piece of code over and over but you don't want to write the same line of code multiple times."
   ]
  },
  {
   "cell_type": "markdown",
   "metadata": {
    "id": "6KySHsyNHnne"
   },
   "source": [
    "### In Python we have mainly two different types of loops :\n",
    "\n",
    "\n",
    "* <u>for loop</u> : In the context of most data science work, Python for loops are used to loop through an iterable object (like a list, tuple, set, etc.) and perform the same action for each entry. For example, a for loop would allow us to iterate through a list, performing the same action on each item in the list.\n",
    "\n",
    "\n",
    "* <u>while loop</u> : The while loop is somewhat similar to an if statement, it executes the code inside, if the condition is True. However, as opposed to the if statement, the while loop continues to execute the code repeatedly as long as the condition is True."
   ]
  },
  {
   "cell_type": "markdown",
   "metadata": {
    "id": "LIQYbLZD4tmG"
   },
   "source": [
    "# for loops\n",
    "\n",
    "A <code>for</code> loop acts as an iterator in Python; it goes through items that are in a *sequence* or any other iterable item. Iterable is an object, which one can iterate over. Objects that we've learned about that we can iterate over include strings, lists, tuples, and even built-in iterables for dictionaries, such as keys or values.\n",
    "\n",
    "Here's the general format for a <code>for</code> loop in Python:\n",
    "\n",
    "    for item in object:\n",
    "        statements to do stuff"
   ]
  },
  {
   "cell_type": "markdown",
   "metadata": {
    "id": "spm4L5pg47Kl"
   },
   "source": [
    "The variable name used for the item is completely up to the coder, so use your best judgment for choosing a name that makes sense and you will be able to understand when revisiting your code. This item name can then be referenced inside your loop, for example if you wanted to use <code>if</code> statements to perform checks.\n",
    "\n",
    "Let's go ahead and work through several example of <code>for</code> loops using a variety of data object types. We'll start simple and build more complexity later on."
   ]
  },
  {
   "cell_type": "markdown",
   "metadata": {
    "id": "fPcjT_0JEFT8"
   },
   "source": [
    "### <u> Example 1</u>\n",
    "\n",
    "\n",
    "#### Let us print each element of our list of strings using a for loop statement\n",
    "\n",
    "\n"
   ]
  },
  {
   "cell_type": "code",
   "execution_count": 1,
   "metadata": {
    "id": "ZN-GxWfKHnng"
   },
   "outputs": [],
   "source": [
    "# Consider a list of strings \n",
    "\n",
    "got_houses = ['Stark', 'Arryn', 'Baratheon', 'Tully', 'Greyjoy', 'Lannister', 'Tyrell', 'Martell', 'Targaryen']"
   ]
  },
  {
   "cell_type": "code",
   "execution_count": 3,
   "metadata": {
    "colab": {
     "base_uri": "https://localhost:8080/"
    },
    "id": "vtQdcDy57HK4",
    "outputId": "18ec9d73-6aad-4855-c2d1-72fb2127469f"
   },
   "outputs": [
    {
     "name": "stdout",
     "output_type": "stream",
     "text": [
      "House Targaryen\n",
      "House Martell\n",
      "House Tyrell\n",
      "House Lannister\n",
      "House Greyjoy\n",
      "House Tully\n",
      "House Baratheon\n",
      "House Arryn\n",
      "House Stark\n"
     ]
    }
   ],
   "source": [
    "# A simple for loop to print the houses of GOT in reverse\n",
    "for house in got_houses[::-1]:\n",
    "  print(f\"House {house}\")"
   ]
  },
  {
   "cell_type": "markdown",
   "metadata": {
    "id": "vcnGoKMU7w3F"
   },
   "source": [
    "### Another interesting way to loop through the elements of a list is to use the <code>enumerate()</code> function. Using enumerate requires us two iterators index and element"
   ]
  },
  {
   "cell_type": "code",
   "execution_count": 5,
   "metadata": {
    "colab": {
     "base_uri": "https://localhost:8080/"
    },
    "id": "A4kt0w-uKnPZ",
    "outputId": "8862e7c9-4de7-4dea-81d2-c0d3f555b2a4"
   },
   "outputs": [
    {
     "name": "stdout",
     "output_type": "stream",
     "text": [
      "['Stark', 'Arryn', 'Baratheon', 'Tully', 'Greyjoy', 'Lannister', 'Tyrell', 'Martell', 'Targaryen']\n"
     ]
    }
   ],
   "source": [
    "print(got_houses)"
   ]
  },
  {
   "cell_type": "code",
   "execution_count": 6,
   "metadata": {
    "colab": {
     "base_uri": "https://localhost:8080/"
    },
    "id": "0QCxgyEbHnnu",
    "outputId": "471f09a9-78e5-4ce3-e3f2-90f063cbf9e0"
   },
   "outputs": [
    {
     "name": "stdout",
     "output_type": "stream",
     "text": [
      "The house no of house Stark is 1\n",
      "The house no of house Arryn is 2\n",
      "The house no of house Baratheon is 3\n",
      "The house no of house Tully is 4\n",
      "The house no of house Greyjoy is 5\n",
      "The house no of house Lannister is 6\n",
      "The house no of house Tyrell is 7\n",
      "The house no of house Martell is 8\n",
      "The house no of house Targaryen is 9\n"
     ]
    }
   ],
   "source": [
    "# Using enumerate function to loop through the elements of a list\n",
    "for number,house in enumerate(got_houses):\n",
    "    \n",
    "    print(f\"The house no of house {house} is {number + 1}\")"
   ]
  },
  {
   "cell_type": "code",
   "execution_count": 7,
   "metadata": {
    "id": "Vl6Ranh3Lbg0"
   },
   "outputs": [],
   "source": [
    "x = 1,2"
   ]
  },
  {
   "cell_type": "code",
   "execution_count": 8,
   "metadata": {
    "colab": {
     "base_uri": "https://localhost:8080/"
    },
    "id": "0nJbNNVhLdTC",
    "outputId": "2827f6fc-f289-4e8b-e87a-cf7e4323b5ed"
   },
   "outputs": [
    {
     "data": {
      "text/plain": [
       "(1, 2)"
      ]
     },
     "execution_count": 8,
     "metadata": {},
     "output_type": "execute_result"
    }
   ],
   "source": [
    "x"
   ]
  },
  {
   "cell_type": "code",
   "execution_count": 9,
   "metadata": {
    "colab": {
     "base_uri": "https://localhost:8080/"
    },
    "id": "qgwQD7OSLEF7",
    "outputId": "82ce3fc0-3198-486a-c477-4be8d2048513"
   },
   "outputs": [
    {
     "data": {
      "text/plain": [
       "[(0, 'Stark'),\n",
       " (1, 'Arryn'),\n",
       " (2, 'Baratheon'),\n",
       " (3, 'Tully'),\n",
       " (4, 'Greyjoy'),\n",
       " (5, 'Lannister'),\n",
       " (6, 'Tyrell'),\n",
       " (7, 'Martell'),\n",
       " (8, 'Targaryen')]"
      ]
     },
     "execution_count": 9,
     "metadata": {},
     "output_type": "execute_result"
    }
   ],
   "source": [
    "list(enumerate(got_houses))"
   ]
  },
  {
   "cell_type": "markdown",
   "metadata": {
    "id": "4MtexExREJGW"
   },
   "source": [
    "### <u>Example 2</u>\n",
    "\n",
    "#### Suppose you are given a list of numbers. You need to find the corresponding squares of these numbers and zip them together in a dictionary"
   ]
  },
  {
   "cell_type": "code",
   "execution_count": 10,
   "metadata": {
    "id": "QvpFXqHvHnn1"
   },
   "outputs": [],
   "source": [
    "# The list of numbers\n",
    "list_of_numbers = [1, 2, 4, 6, 11, 14, 17, 20]"
   ]
  },
  {
   "cell_type": "code",
   "execution_count": 11,
   "metadata": {
    "colab": {
     "base_uri": "https://localhost:8080/"
    },
    "id": "UOlQvndGHnn6",
    "outputId": "828dcee5-a602-4bfd-f243-30c45b1c97f9"
   },
   "outputs": [
    {
     "name": "stdout",
     "output_type": "stream",
     "text": [
      "The square of 1 is 1\n",
      "The square of 2 is 4\n",
      "The square of 4 is 16\n",
      "The square of 6 is 36\n",
      "The square of 11 is 121\n",
      "The square of 14 is 196\n",
      "The square of 17 is 289\n",
      "The square of 20 is 400\n",
      "{1: 1, 2: 4, 4: 16, 6: 36, 11: 121, 14: 196, 17: 289, 20: 400}\n"
     ]
    }
   ],
   "source": [
    "# Let us first print the squares\n",
    "ss={}\n",
    "for number in list_of_numbers:\n",
    "    squared_number = number**2\n",
    "    ss[number]=squared_number\n",
    "    print(f\"The square of {number} is {squared_number}\")\n",
    "print(ss) #dictionary"
   ]
  },
  {
   "cell_type": "markdown",
   "metadata": {
    "id": "w945dRqiHnn9"
   },
   "source": [
    "### So this was a pretty straight forward way to print out these squares.\n",
    "\n",
    "### <u>Example 3</u>\n",
    "#### Imagine a scenario where we not only needed to print these numbers for each iteration but also we need to store these elements somewhere else"
   ]
  },
  {
   "cell_type": "code",
   "execution_count": 12,
   "metadata": {
    "colab": {
     "base_uri": "https://localhost:8080/"
    },
    "id": "yCkngv1POm0a",
    "outputId": "41198fba-321f-44ad-cb1e-6753e406229e"
   },
   "outputs": [
    {
     "data": {
      "text/plain": [
       "[1, 2, 4, 6, 11, 14, 17, 20]"
      ]
     },
     "execution_count": 12,
     "metadata": {},
     "output_type": "execute_result"
    }
   ],
   "source": [
    "list_of_numbers"
   ]
  },
  {
   "cell_type": "code",
   "execution_count": 13,
   "metadata": {
    "colab": {
     "base_uri": "https://localhost:8080/"
    },
    "id": "1O-AcdmHBt3i",
    "outputId": "14e197e8-d38e-4c24-8b42-35c453b49016"
   },
   "outputs": [
    {
     "name": "stdout",
     "output_type": "stream",
     "text": [
      "The list of squared numbers is [1, 4, 16, 36, 121, 196, 289, 400]\n"
     ]
    }
   ],
   "source": [
    "# Let us first initialize a list where we will be appending the squares in each iteration\n",
    "\n",
    "squared_numbers = []\n",
    "\n",
    "for number in list_of_numbers:\n",
    "    square = number**2\n",
    "  # Use the append method to add the numbers one by one to our list\n",
    "    squared_numbers.append(square)\n",
    "  # print(squared_numbers)\n",
    "\n",
    "print(f\"The list of squared numbers is {squared_numbers}\")"
   ]
  },
  {
   "cell_type": "code",
   "execution_count": 14,
   "metadata": {
    "colab": {
     "base_uri": "https://localhost:8080/"
    },
    "id": "7UdHNjXYQPMP",
    "outputId": "aa8db3d1-651f-47fa-8b90-c482643b6d7b"
   },
   "outputs": [
    {
     "name": "stdout",
     "output_type": "stream",
     "text": [
      "[1, 2, 4, 6, 11, 14, 17, 20]\n",
      "[1, 4, 16, 36, 121, 196, 289, 400]\n"
     ]
    }
   ],
   "source": [
    "print(list_of_numbers)\n",
    "print(squared_numbers)"
   ]
  },
  {
   "cell_type": "code",
   "execution_count": 15,
   "metadata": {
    "colab": {
     "base_uri": "https://localhost:8080/"
    },
    "id": "dXegXzIxCgT7",
    "outputId": "5c5639f9-43c7-4c03-ac0a-7f2266680cfb"
   },
   "outputs": [
    {
     "name": "stdout",
     "output_type": "stream",
     "text": [
      "{1: 1, 2: 4, 4: 16, 6: 36, 11: 121, 14: 196, 17: 289, 20: 400}\n"
     ]
    }
   ],
   "source": [
    "# Let us zip the original numbers and squares together and get the dictionary\n",
    "zipped_dict = dict(zip(list_of_numbers,squared_numbers))\n",
    "\n",
    "# Let us print the dictionary where the key is the number and the value is the square of that number\n",
    "print(zipped_dict)"
   ]
  },
  {
   "cell_type": "markdown",
   "metadata": {
    "id": "LfTpVhrcHnn-"
   },
   "source": [
    "### <u> Example 4</u>\n",
    "####  Now suppose we only want to print the squares of those numbers which are even. Let us see how we can do this"
   ]
  },
  {
   "cell_type": "code",
   "execution_count": null,
   "metadata": {
    "colab": {
     "base_uri": "https://localhost:8080/"
    },
    "id": "fgFDSaG3cqG0",
    "outputId": "cb06c9d8-6462-426b-918a-213f0bf6cd06"
   },
   "outputs": [
    {
     "name": "stdout",
     "output_type": "stream",
     "text": [
      "[1, 2, 4, 6, 11, 14, 17, 20]\n"
     ]
    }
   ],
   "source": [
    "print(list_of_numbers)"
   ]
  },
  {
   "cell_type": "code",
   "execution_count": 19,
   "metadata": {
    "colab": {
     "base_uri": "https://localhost:8080/"
    },
    "id": "P3XeEpxgHnn_",
    "outputId": "d06a249b-c665-44b1-ce55-91826f20a216"
   },
   "outputs": [
    {
     "name": "stdout",
     "output_type": "stream",
     "text": [
      "I am an odd number 1.My master prohibits me from printing the squares of odd numbers. Strange but okay!\n",
      "The square of 2 is 4\n",
      "The square of 4 is 16\n",
      "The square of 6 is 36\n",
      "I am an odd number 11.My master prohibits me from printing the squares of odd numbers. Strange but okay!\n",
      "The square of 14 is 196\n",
      "I am an odd number 17.My master prohibits me from printing the squares of odd numbers. Strange but okay!\n",
      "The square of 20 is 400\n",
      "\n",
      "\n",
      "I am finished with my iteration\n"
     ]
    }
   ],
   "source": [
    "# Let us first print the squares\n",
    "for number in list_of_numbers:\n",
    "    if number%2 == 0:\n",
    "        squared_number = number**2\n",
    "        print(f\"The square of {number} is {squared_number}\")\n",
    "    else:\n",
    "        print(f\"I am an odd number {number}.My master prohibits me from printing the squares of odd numbers. Strange but okay!\")\n",
    "\n",
    "print(\"\\n\")\n",
    "print(\"I am finished with my iteration\")"
   ]
  },
  {
   "cell_type": "markdown",
   "metadata": {
    "id": "W0MQiTnNAFgk"
   },
   "source": [
    "### <code>range()</code> function is a pretty useful function to get a sequence of numbers. It takes three arguments : start, stop, step"
   ]
  },
  {
   "cell_type": "code",
   "execution_count": 20,
   "metadata": {
    "colab": {
     "base_uri": "https://localhost:8080/"
    },
    "id": "1yyntnVs_ll0",
    "outputId": "fe6d3e4f-28cc-4226-df1e-350f250525dc"
   },
   "outputs": [
    {
     "data": {
      "text/plain": [
       "[0, 1, 2, 3, 4, 5, 6, 7, 8, 9]"
      ]
     },
     "execution_count": 20,
     "metadata": {},
     "output_type": "execute_result"
    }
   ],
   "source": [
    "list(range(10))"
   ]
  },
  {
   "cell_type": "code",
   "execution_count": 22,
   "metadata": {
    "colab": {
     "base_uri": "https://localhost:8080/"
    },
    "id": "3JmJKUjl_87A",
    "outputId": "19154465-4e72-4fe3-b66b-312f3f433239"
   },
   "outputs": [
    {
     "name": "stdout",
     "output_type": "stream",
     "text": [
      "The square of 0 is 0\n",
      "The square of 2 is 4\n",
      "The square of 4 is 16\n",
      "The square of 6 is 36\n",
      "The square of 8 is 64\n"
     ]
    }
   ],
   "source": [
    "# Let us first print the squares\n",
    "for number in range(0,10,2):\n",
    "    squared_number = number**2\n",
    "    print(f\"The square of {number} is {squared_number}\")"
   ]
  },
  {
   "cell_type": "code",
   "execution_count": 23,
   "metadata": {
    "colab": {
     "base_uri": "https://localhost:8080/"
    },
    "id": "MLm1sHgdT6YF",
    "outputId": "e1dbe73f-2f33-414f-f88b-cff520ed487e"
   },
   "outputs": [
    {
     "name": "stdout",
     "output_type": "stream",
     "text": [
      "2\n",
      "4\n",
      "6\n",
      "8\n",
      "10\n",
      "12\n",
      "14\n",
      "16\n",
      "18\n",
      "20\n"
     ]
    }
   ],
   "source": [
    "for i in range(2,21,2):\n",
    "  print(i)"
   ]
  },
  {
   "cell_type": "markdown",
   "metadata": {
    "id": "mfgGGs1ESsPv"
   },
   "source": [
    "### <u> Example 5<u>\n",
    "#### Next suppose we wanted to find the sum of the squares of our numbers in the list"
   ]
  },
  {
   "cell_type": "code",
   "execution_count": 32,
   "metadata": {
    "colab": {
     "base_uri": "https://localhost:8080/"
    },
    "id": "uKiA4sBFHnoC",
    "outputId": "989133a9-34ab-4c5d-bf5a-e08fdfd612da"
   },
   "outputs": [
    {
     "name": "stdout",
     "output_type": "stream",
     "text": [
      "[1, 2, 4, 6, 11, 14, 17, 20]\n"
     ]
    }
   ],
   "source": [
    "# Print our list\n",
    "print(list_of_numbers)#"
   ]
  },
  {
   "cell_type": "code",
   "execution_count": 40,
   "metadata": {
    "colab": {
     "base_uri": "https://localhost:8080/"
    },
    "id": "pbQlDAYyHnoG",
    "outputId": "d6b0049e-de64-47e1-8164-2bafe33214cc"
   },
   "outputs": [
    {
     "name": "stdout",
     "output_type": "stream",
     "text": [
      "1\n",
      "3\n",
      "6\n",
      "10\n",
      "15\n",
      "21\n",
      "28\n",
      "36\n",
      "45\n",
      "55\n",
      "The sum of the squares of our list of numbers is 55\n"
     ]
    }
   ],
   "source": [
    "# Let us the initialize the sum of the squares with 0. This makes sense right!\n",
    "sum_squares = 0\n",
    "\n",
    "for number in range(1,11):\n",
    "    sum_squares = sum_squares + number\n",
    "    print(sum_squares)\n",
    "\n",
    "# Now we have added the squares of all the numbers in our list\n",
    "print(f\"The sum of the squares of our list of numbers is {sum_squares}\")"
   ]
  },
  {
   "cell_type": "code",
   "execution_count": 37,
   "metadata": {},
   "outputs": [
    {
     "name": "stdout",
     "output_type": "stream",
     "text": [
      "1\n",
      "4\n",
      "16\n",
      "36\n",
      "121\n",
      "196\n",
      "289\n",
      "400\n",
      "sum of the squares of the list elements are  1063\n"
     ]
    }
   ],
   "source": [
    "sum=0  # my code for calculating sum of squares of the list elements list_of_numbers\n",
    "\n",
    "for number in list_of_numbers:\n",
    "    squares=number**2\n",
    "    sum=sum+squares\n",
    "    print(squares)\n",
    "\n",
    "print(f'sum of the squares of the list elements are ',sum)"
   ]
  },
  {
   "cell_type": "markdown",
   "metadata": {
    "id": "PNsXf6IfHnoI"
   },
   "source": [
    "### Up till now, we have only implemented for loops for list objects. From the last week, we know that there are other objects in Python which are sequence of elements such as strings, tuples etc. Let us try and apply for loop to iterate over their elements.\n",
    "\n",
    "### <u> Example 6</u>\n",
    "##### We are given a sentence : \"I am the one who knocks!\""
   ]
  },
  {
   "cell_type": "code",
   "execution_count": 41,
   "metadata": {
    "id": "UXPQjcvL9Mwq"
   },
   "outputs": [],
   "source": [
    "# Let us first store the sentence in a string variable \n",
    "heisenberg_quote =  \"I am the one who knocks!\""
   ]
  },
  {
   "cell_type": "markdown",
   "metadata": {
    "id": "Q-8rKVVdY3Iw"
   },
   "source": [
    "#### The next step is to print all the characters which are separated by whitespace"
   ]
  },
  {
   "cell_type": "code",
   "execution_count": 42,
   "metadata": {
    "colab": {
     "base_uri": "https://localhost:8080/"
    },
    "id": "Y3pbat1fWa2X",
    "outputId": "e1b58805-4fbd-4660-d7c6-c5dfd659f06c"
   },
   "outputs": [
    {
     "name": "stdout",
     "output_type": "stream",
     "text": [
      " The character is I\n",
      " The character is  \n",
      " The character is a\n",
      " The character is m\n",
      " The character is  \n",
      " The character is t\n",
      " The character is h\n",
      " The character is e\n",
      " The character is  \n",
      " The character is o\n",
      " The character is n\n",
      " The character is e\n",
      " The character is  \n",
      " The character is w\n",
      " The character is h\n",
      " The character is o\n",
      " The character is  \n",
      " The character is k\n",
      " The character is n\n",
      " The character is o\n",
      " The character is c\n",
      " The character is k\n",
      " The character is s\n",
      " The character is !\n"
     ]
    }
   ],
   "source": [
    "for char in heisenberg_quote:\n",
    "    print(f\" The character is {char}\")"
   ]
  },
  {
   "cell_type": "code",
   "execution_count": null,
   "metadata": {
    "colab": {
     "base_uri": "https://localhost:8080/"
    },
    "id": "acavVLtgHnoI",
    "outputId": "2b25020e-ceeb-43fc-9b2c-f7461510d878"
   },
   "outputs": [
    {
     "name": "stdout",
     "output_type": "stream",
     "text": [
      " The index is 0 and the character is I\n",
      " The index is 1 and the character is  \n",
      " The index is 2 and the character is a\n",
      " The index is 3 and the character is m\n",
      " The index is 4 and the character is  \n",
      " The index is 5 and the character is t\n",
      " The index is 6 and the character is h\n",
      " The index is 7 and the character is e\n",
      " The index is 8 and the character is  \n",
      " The index is 9 and the character is o\n",
      " The index is 10 and the character is n\n",
      " The index is 11 and the character is e\n",
      " The index is 12 and the character is  \n",
      " The index is 13 and the character is w\n",
      " The index is 14 and the character is h\n",
      " The index is 15 and the character is o\n",
      " The index is 16 and the character is  \n",
      " The index is 17 and the character is k\n",
      " The index is 18 and the character is n\n",
      " The index is 19 and the character is o\n",
      " The index is 20 and the character is c\n",
      " The index is 21 and the character is k\n",
      " The index is 22 and the character is s\n",
      " The index is 23 and the character is !\n"
     ]
    }
   ],
   "source": [
    "# Lets apply a for loop to do the above task\n",
    "\n",
    "for index,char  in enumerate(heisenberg_quote):\n",
    "    print(f\" The index is {index} and the character is {char}\")"
   ]
  },
  {
   "cell_type": "markdown",
   "metadata": {
    "id": "B03yfZ97HnoK"
   },
   "source": [
    "### We saw how we can iterate through each element of our string. What if you wanted to iterate through each word of the sentence and not each element. There is an important method available with strings known as <code>split()</code> method. \n",
    "\n",
    "#### This method returns the list of words separated by the character we want to separate them by.\n",
    "\n",
    "### <u> Example 7</u>"
   ]
  },
  {
   "cell_type": "code",
   "execution_count": 43,
   "metadata": {
    "id": "Ai_uK72yHnoL"
   },
   "outputs": [],
   "source": [
    "heisenberg_quote = \"It ceases to exist without me. No, you clearly don't know who you're talking to, so let me clue you in. I am not in danger, Skyler. I am the danger.\""
   ]
  },
  {
   "cell_type": "code",
   "execution_count": 47,
   "metadata": {
    "colab": {
     "base_uri": "https://localhost:8080/"
    },
    "id": "1UpKwsua-HIk",
    "outputId": "8fb1186e-b0b9-4dda-f05f-7242952380fc"
   },
   "outputs": [
    {
     "name": "stdout",
     "output_type": "stream",
     "text": [
      "['It', 'ceases', 'to', 'exist', 'without', 'me.', 'No,', 'you', 'clearly', \"don't\", 'know', 'who', \"you're\", 'talking', 'to,', 'so', 'let', 'me', 'clue', 'you', 'in.', 'I', 'am', 'not', 'in', 'danger,', 'Skyler.', 'I', 'am', 'the', 'danger.']\n"
     ]
    }
   ],
   "source": [
    "words_by_walter = heisenberg_quote.split(' ') # if seprator is not given then bydefault it takes the spaces\n",
    "print(words_by_walter)"
   ]
  },
  {
   "cell_type": "code",
   "execution_count": 51,
   "metadata": {
    "colab": {
     "base_uri": "https://localhost:8080/"
    },
    "id": "Qi411Crhoy_X",
    "outputId": "802d6bb5-e175-4a60-ec9b-0635d5eca8a1"
   },
   "outputs": [
    {
     "name": "stdout",
     "output_type": "stream",
     "text": [
      "The word is It\n",
      "The word is ceases\n",
      "The word is to\n",
      "The word is exist\n",
      "The word is without\n",
      "The word is me.\n",
      "The word is No,\n",
      "here the word is you\n",
      "The word is clearly\n",
      "The word is don't\n",
      "The word is know\n",
      "The word is who\n",
      "The word is you're\n",
      "The word is talking\n",
      "The word is to,\n",
      "The word is so\n",
      "The word is let\n",
      "The word is me\n",
      "The word is clue\n",
      "here the word is you\n",
      "The word is in.\n",
      "here the word is I\n",
      "The word is am\n",
      "The word is not\n",
      "The word is in\n",
      "The word is danger,\n",
      "The word is Skyler.\n",
      "here the word is I\n",
      "The word is am\n",
      "The word is the\n",
      "The word is danger.\n"
     ]
    }
   ],
   "source": [
    "# Now we can print each word by iterating through this list\n",
    "for word in words_by_walter:\n",
    "    if word not in ['I','you']:  #membership operator is used to check if it is false then it executes else\n",
    "        print(f\"The word is {word}\")\n",
    "    else:\n",
    "        print('here the word is {}'.format(word))"
   ]
  },
  {
   "cell_type": "markdown",
   "metadata": {
    "id": "khxoqawIHnoN"
   },
   "source": [
    "### We can also iterate through each element of tuple as well. \n",
    "\n",
    "### <u> Example 8 </u>"
   ]
  },
  {
   "cell_type": "code",
   "execution_count": 52,
   "metadata": {
    "colab": {
     "base_uri": "https://localhost:8080/"
    },
    "id": "r5BzV1ITHnoN",
    "outputId": "8d855f9d-b718-4329-c53a-fd8c71dbc01c"
   },
   "outputs": [
    {
     "name": "stdout",
     "output_type": "stream",
     "text": [
      "Today is Monday\n",
      "Today is Tuesday\n",
      "Today is Wednesday\n",
      "Today is Thursday\n",
      "Today is Friday\n",
      "Today is Saturday\n",
      "Today is Sunday\n"
     ]
    }
   ],
   "source": [
    "# Suppose we have a tuple of days\n",
    "days = ('Monday' ,'Tuesday' ,'Wednesday' ,'Thursday' ,'Friday','Saturday','Sunday')\n",
    "\n",
    "for day in days:\n",
    "  print(f\"Today is {day}\")"
   ]
  },
  {
   "cell_type": "markdown",
   "metadata": {
    "id": "l1lhP7tZgJDv"
   },
   "source": [
    "#### Tuples have a special quality when it comes to <code>for</code> loops. If you are iterating through a sequence that contains tuples, the item can actually be the tuple itself, this is an example of *tuple unpacking*. During the <code>for</code> loop we will be unpacking the tuple inside of a sequence and we can access the individual items inside that tuple!"
   ]
  },
  {
   "cell_type": "markdown",
   "metadata": {
    "id": "L9WN9yH3grnv"
   },
   "source": [
    "#### Remember from earlier we had a list of tuples of country-city\n",
    "\n",
    "### <u> Example 9</u>"
   ]
  },
  {
   "cell_type": "code",
   "execution_count": 53,
   "metadata": {
    "id": "WbcIox50gTyl"
   },
   "outputs": [],
   "source": [
    "country_city_river_list = [('India','New Delhi','Ganga'),('Australia','Canberra','Rovers'),('United States','Washington DC','Missouri'),('England','London','Thames')]"
   ]
  },
  {
   "cell_type": "code",
   "execution_count": 54,
   "metadata": {
    "colab": {
     "base_uri": "https://localhost:8080/"
    },
    "id": "gMBUnrnYg5E3",
    "outputId": "dabf98dd-9450-46fc-b0f7-761689c76314"
   },
   "outputs": [
    {
     "name": "stdout",
     "output_type": "stream",
     "text": [
      "The capital of the country India is New Delhi and it also has the river Ganga.\n",
      "The capital of the country Australia is Canberra and it also has the river Rovers.\n",
      "The capital of the country United States is Washington DC and it also has the river Missouri.\n",
      "The capital of the country England is London and it also has the river Thames.\n"
     ]
    }
   ],
   "source": [
    "# Let us iterate through each tuple element of this list and unpack each item\n",
    "\n",
    "for country,city,river in country_city_river_list:  #GREAT!\n",
    "  # print(country_city)\n",
    "  print(f\"The capital of the country {country} is {city} and it also has the river {river}.\")"
   ]
  },
  {
   "cell_type": "markdown",
   "metadata": {
    "id": "hjRbT_tyiPPF"
   },
   "source": [
    "### Finally we can iterate through the items of a dictionary as well. \n",
    "\n",
    "### <u> Example 10 </u>"
   ]
  },
  {
   "cell_type": "code",
   "execution_count": 58,
   "metadata": {
    "colab": {
     "base_uri": "https://localhost:8080/"
    },
    "id": "R5UjRNRoiGEx",
    "outputId": "fa58e34f-c0b4-44f4-d143-4a317c8066cf"
   },
   "outputs": [
    {
     "name": "stdout",
     "output_type": "stream",
     "text": [
      "{'India': 'New Delhi', 'Australia': 'Canberra', 'United States': 'Washington DC', 'England': 'London'}\n"
     ]
    }
   ],
   "source": [
    "country_city_list = [('India','New Delhi'),('Australia','Canberra'),('United States','Washington DC'),('England','London')]\n",
    "# Lets convert the list of tuples to a dictionary\n",
    "country_city_dict = dict(country_city_list)\n",
    "print(country_city_dict)"
   ]
  },
  {
   "cell_type": "code",
   "execution_count": 59,
   "metadata": {
    "colab": {
     "base_uri": "https://localhost:8080/"
    },
    "id": "U0ExcdWvihnq",
    "outputId": "ce0ab214-58cf-4bf7-8a55-bdc50b248eaa"
   },
   "outputs": [
    {
     "name": "stdout",
     "output_type": "stream",
     "text": [
      "India\n",
      "Australia\n",
      "United States\n",
      "England\n"
     ]
    }
   ],
   "source": [
    "for item in country_city_dict:\n",
    "    print(item)"
   ]
  },
  {
   "cell_type": "code",
   "execution_count": 60,
   "metadata": {
    "colab": {
     "base_uri": "https://localhost:8080/"
    },
    "id": "H_rV2taaZnNV",
    "outputId": "9da2d2f1-4406-4a4b-cbd5-b446b7799d96"
   },
   "outputs": [
    {
     "data": {
      "text/plain": [
       "dict_items([('India', 'New Delhi'), ('Australia', 'Canberra'), ('United States', 'Washington DC'), ('England', 'London')])"
      ]
     },
     "execution_count": 60,
     "metadata": {},
     "output_type": "execute_result"
    }
   ],
   "source": [
    "country_city_dict.items()"
   ]
  },
  {
   "cell_type": "markdown",
   "metadata": {
    "id": "gdxBvo0-iq5Y"
   },
   "source": [
    "#### This just prints the keys of the dictionary\n",
    "\n",
    "#### Next we can iterate through the key-value pairs using the <code>items()</code> method which you should remember from earlier\n",
    "\n",
    "#### Since the <code>items()</code> method supports iteration, we can perform *dictionary unpacking* to separate keys and values "
   ]
  },
  {
   "cell_type": "code",
   "execution_count": 61,
   "metadata": {
    "colab": {
     "base_uri": "https://localhost:8080/"
    },
    "id": "wQNTi547iptT",
    "outputId": "cf4bfbc7-0007-4fc1-c215-2ba8d9cf43ff"
   },
   "outputs": [
    {
     "name": "stdout",
     "output_type": "stream",
     "text": [
      "The capital of India is New Delhi\n",
      "The capital of Australia is Canberra\n",
      "The capital of United States is Washington DC\n",
      "The capital of England is London\n"
     ]
    }
   ],
   "source": [
    "for country,city in country_city_dict.items():\n",
    "    print(f\"The capital of {country} is {city}\")"
   ]
  },
  {
   "cell_type": "code",
   "execution_count": 63,
   "metadata": {
    "colab": {
     "base_uri": "https://localhost:8080/"
    },
    "id": "OH1tFYTVaK4n",
    "outputId": "c1bf0c0b-0e17-414d-bfaa-9eb102540aaf"
   },
   "outputs": [
    {
     "name": "stdout",
     "output_type": "stream",
     "text": [
      "1\n",
      "2\n",
      "3\n"
     ]
    }
   ],
   "source": [
    "for elem in {1,2,3}:\n",
    "    print(elem)"
   ]
  },
  {
   "cell_type": "markdown",
   "metadata": {
    "id": "Vd-KUOrcjsdx"
   },
   "source": [
    "#### And of course you can iterate through the list of keys and list of values independently depending upon the scenario"
   ]
  },
  {
   "cell_type": "markdown",
   "metadata": {
    "id": "gIk7P1Z9kDt6"
   },
   "source": [
    "# <u>While Loops </u>\n",
    "\n",
    "### The <code>while</code> statement in Python is one of the most general ways to perform iteration. A <code>while</code> statement will repeatedly execute a single statement or group of statements as long as the condition is true. The reason it is called a 'loop' is because the code statements are looped through over and over again until the condition is no longer met.\n",
    "\n",
    "### The general format of a while loop is:\n",
    "\n",
    "    while test:\n",
    "        code statements\n",
    "    else:\n",
    "        final code statements\n",
    "\n",
    "### Let’s look at a few simple <code>while</code> loops in action."
   ]
  },
  {
   "cell_type": "code",
   "execution_count": 64,
   "metadata": {
    "colab": {
     "base_uri": "https://localhost:8080/"
    },
    "id": "sjIkaSfdkBrX",
    "outputId": "12def626-0e15-4ff6-951a-6c9308829906"
   },
   "outputs": [
    {
     "name": "stdout",
     "output_type": "stream",
     "text": [
      "x is currently:  0\n",
      "x is still less than 10, adding 1 to x\n",
      "x is currently:  1\n",
      "x is still less than 10, adding 1 to x\n",
      "x is currently:  2\n",
      "x is still less than 10, adding 1 to x\n",
      "x is currently:  3\n",
      "x is still less than 10, adding 1 to x\n",
      "x is currently:  4\n",
      "x is still less than 10, adding 1 to x\n",
      "x is currently:  5\n",
      "x is still less than 10, adding 1 to x\n",
      "x is currently:  6\n",
      "x is still less than 10, adding 1 to x\n",
      "x is currently:  7\n",
      "x is still less than 10, adding 1 to x\n",
      "x is currently:  8\n",
      "x is still less than 10, adding 1 to x\n",
      "x is currently:  9\n",
      "x is still less than 10, adding 1 to x\n"
     ]
    }
   ],
   "source": [
    "x = 0\n",
    "\n",
    "while x < 10:\n",
    "  print('x is currently: ',x)\n",
    "  print('x is still less than 10, adding 1 to x')\n",
    "  x=x+1"
   ]
  },
  {
   "cell_type": "markdown",
   "metadata": {
    "id": "pUhvyaN5kCPx"
   },
   "source": [
    "### Notice how many times the print statements occurred and how the <code>while</code> loop kept going until the False condition was met, which occurred once x==10. It's important to note that once this occurred the code stopped. Let's see how we could add an <code>else</code> statement:\n"
   ]
  },
  {
   "cell_type": "code",
   "execution_count": 65,
   "metadata": {
    "colab": {
     "base_uri": "https://localhost:8080/"
    },
    "id": "kSnELiDRkBVe",
    "outputId": "c734721e-2a30-43d8-f918-ad6d84f0fa76"
   },
   "outputs": [
    {
     "name": "stdout",
     "output_type": "stream",
     "text": [
      "x is currently:  0\n",
      " x is still less than 10, adding 1 to x\n",
      "x is currently:  1\n",
      " x is still less than 10, adding 1 to x\n",
      "x is currently:  2\n",
      " x is still less than 10, adding 1 to x\n",
      "x is currently:  3\n",
      " x is still less than 10, adding 1 to x\n",
      "x is currently:  4\n",
      " x is still less than 10, adding 1 to x\n",
      "All done\n",
      "I am done with the iterations\n"
     ]
    }
   ],
   "source": [
    "x = 0\n",
    "\n",
    "while x < 5:\n",
    "    print('x is currently: ',x)\n",
    "    print(' x is still less than 10, adding 1 to x')\n",
    "    x+=1\n",
    "else:  \n",
    "    print(\"All done\")\n",
    "print(\"I am done with the iterations\")"
   ]
  },
  {
   "cell_type": "markdown",
   "metadata": {
    "id": "5u30qd4ZlcXS"
   },
   "source": [
    "## break, continue, pass\n",
    "\n",
    "### We can use <code>break</code>, <code>continue</code>, and <code>pass</code> statements in our loops to add additional functionality for various cases. The three statements are defined by:\n",
    "\n",
    "    break: Breaks out of the current closest enclosing loop.\n",
    "    continue: Goes to the top of the closest enclosing loop.\n",
    "    pass: Does nothing at all.\n",
    "    \n",
    "    \n",
    "### Thinking about <code>break</code> and <code>continue</code> statements, the general format of the <code>while</code> loop looks like this:\n",
    "\n",
    "    while test: \n",
    "        code statement\n",
    "        if test: \n",
    "            break\n",
    "        if test: \n",
    "            continue \n",
    "    else:\n",
    "\n",
    "### <code>break</code> and <code>continue</code> statements can appear anywhere inside the loop’s body, but we will usually put them further nested in conjunction with an <code>if</code> statement to perform an action based on some condition.\n"
   ]
  },
  {
   "cell_type": "code",
   "execution_count": 67,
   "metadata": {
    "colab": {
     "base_uri": "https://localhost:8080/"
    },
    "id": "hqEGeWnbkBLz",
    "outputId": "ef3a963d-7499-4f5c-f4bc-7ba59591c979"
   },
   "outputs": [
    {
     "name": "stdout",
     "output_type": "stream",
     "text": [
      "x is currently:  0\n",
      " x is still less than 10, adding 1 to x\n",
      "continuing...\n",
      "x is currently:  1\n",
      " x is still less than 10, adding 1 to x\n",
      "continuing...\n",
      "x is currently:  2\n",
      " x is still less than 10, adding 1 to x\n",
      "x==3\n"
     ]
    }
   ],
   "source": [
    "x = 0\n",
    "\n",
    "while x < 10:\n",
    "  print('x is currently: ',x)\n",
    "  print(' x is still less than 10, adding 1 to x')\n",
    "  x+=1\n",
    "  if x==3:\n",
    "    print('x==3')\n",
    "    break\n",
    "  else:\n",
    "    print('continuing...')\n",
    "    continue"
   ]
  },
  {
   "cell_type": "markdown",
   "metadata": {
    "id": "E6LKgma5mCJ9"
   },
   "source": [
    "#### Note how we have a printed statement when x==3, and a continue being printed out as we continue through the outer while loop. Let's put in a break once x ==3 and see if the result makes sense:\n"
   ]
  },
  {
   "cell_type": "code",
   "execution_count": null,
   "metadata": {
    "colab": {
     "base_uri": "https://localhost:8080/",
     "height": 50
    },
    "id": "hfAJ9XKNjKLg",
    "outputId": "a5c12fc1-5f4b-471a-cd20-4813b656fa08"
   },
   "outputs": [
    {
     "name": "stdout",
     "output_type": "stream",
     "text": [
      "x is currently:  0\n",
      " x is still less than 10, adding 1 to x\n"
     ]
    }
   ],
   "source": [
    "\n",
    "x = 0\n",
    "\n",
    "while x < 10:\n",
    "  print('x is currently: ',x)\n",
    "  print(' x is still less than 10, adding 1 to x')\n",
    "  x+=1\n",
    "  break\n",
    "\n",
    "else:\n",
    "  print('continuing...')\n",
    "  "
   ]
  },
  {
   "cell_type": "code",
   "execution_count": null,
   "metadata": {
    "colab": {
     "base_uri": "https://localhost:8080/"
    },
    "id": "dwGxs4EVm2fB",
    "outputId": "06b7e312-6c62-4542-c4fc-04836011172a"
   },
   "outputs": [
    {
     "name": "stdout",
     "output_type": "stream",
     "text": [
      "x is currently:  0\n",
      " x is still less than 10, adding 1 to x\n",
      "x is currently:  1\n",
      " x is still less than 10, adding 1 to x\n",
      "x is currently:  2\n",
      " x is still less than 10, adding 1 to x\n",
      "x is currently:  3\n",
      " x is still less than 10, adding 1 to x\n",
      "x is currently:  4\n",
      " x is still less than 10, adding 1 to x\n",
      "x is currently:  5\n",
      " x is still less than 10, adding 1 to x\n",
      "x is currently:  6\n",
      " x is still less than 10, adding 1 to x\n",
      "x is currently:  7\n",
      " x is still less than 10, adding 1 to x\n",
      "x is currently:  8\n",
      " x is still less than 10, adding 1 to x\n",
      "x is currently:  9\n",
      " x is still less than 10, adding 1 to x\n",
      "continuing...\n"
     ]
    }
   ],
   "source": [
    "x = 0\n",
    "\n",
    "while x < 10:\n",
    "  print('x is currently: ',x)\n",
    "  print(' x is still less than 10, adding 1 to x')\n",
    "  x+=1\n",
    "  pass\n",
    "\n",
    "else:\n",
    "  print('continuing...')"
   ]
  },
  {
   "cell_type": "markdown",
   "metadata": {
    "id": "OvB31hV4mPqK"
   },
   "source": [
    "\n",
    "\n",
    "#### After these brief but simple examples, you should feel comfortable using <code>while</code> statements in your code.\n",
    "\n",
    "#### **A word of caution however! It is possible to create an infinitely running loop with <code>while</code> statements.**"
   ]
  },
  {
   "cell_type": "code",
   "execution_count": null,
   "metadata": {
    "id": "1wJmRZPX68kf"
   },
   "outputs": [],
   "source": [
    "for elem in list_of_numbers:\n",
    "  while elem > 3:\n",
    "    pass\n",
    "  else:\n",
    "    "
   ]
  },
  {
   "cell_type": "code",
   "execution_count": null,
   "metadata": {
    "id": "R7YBuJeZkY60"
   },
   "outputs": [],
   "source": [
    "l = []\n",
    "for elem in l :\n",
    "  print(elem)"
   ]
  },
  {
   "cell_type": "code",
   "execution_count": null,
   "metadata": {
    "id": "LEhuxzxekb2s"
   },
   "outputs": [],
   "source": []
  }
 ],
 "metadata": {
  "colab": {
   "collapsed_sections": [],
   "name": "Loops & Iterations.ipynb",
   "provenance": []
  },
  "kernelspec": {
   "display_name": "Python 3 (ipykernel)",
   "language": "python",
   "name": "python3"
  },
  "language_info": {
   "codemirror_mode": {
    "name": "ipython",
    "version": 3
   },
   "file_extension": ".py",
   "mimetype": "text/x-python",
   "name": "python",
   "nbconvert_exporter": "python",
   "pygments_lexer": "ipython3",
   "version": "3.9.7"
  }
 },
 "nbformat": 4,
 "nbformat_minor": 1
}
