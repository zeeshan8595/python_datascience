{
 "cells": [
  {
   "cell_type": "markdown",
   "metadata": {
    "id": "Aq5jjKHb-zdZ"
   },
   "source": [
    "# <u> Problem 1</u>\n",
    "\n",
    "### Write a function which takes the excel column name as an input and returns the corresponding column number. A few examples are :\n",
    "\n",
    "* column name = <code>'J'</code> , column number = <code>10</code>\n",
    "* column name = <code>'AP'</code> , column number = <code>42</code>\n",
    "* column name = <code>'AAA'</code>, column number = <code>703</code>\n"
   ]
  },
  {
   "cell_type": "code",
   "execution_count": 1,
   "metadata": {
    "id": "Un0QXOa3-zdb"
   },
   "outputs": [],
   "source": [
    "def get_excel_column_number(column_name):\n",
    "  '''\n",
    "  This functions returns the corresponding column number for an excel column name\n",
    "  '''\n",
    "  # Write your code here\n",
    "\n",
    "numbers=list(range(1,1000))\n",
    "\n",
    "alphabets=[ 'A', 'B', 'C', 'D', 'E', 'F', 'G', 'H', 'I', 'J', 'K', 'L', 'M', 'N', 'O', 'P', 'Q', 'R', 'S', 'T', 'U', 'V', 'W', 'X', 'Y', 'Z']\n",
    "numbers=list(range(1,1000))\n",
    "\n",
    "\n",
    "#print(numbers)\n",
    "#print(alphabets)\n",
    "\n"
   ]
  },
  {
   "cell_type": "code",
   "execution_count": 2,
   "metadata": {},
   "outputs": [],
   "source": [
    "\n",
    "al=[]\n",
    "for i,j in enumerate(alphabets):\n",
    "    for s,t in enumerate(alphabets):\n",
    "        #print(s)\n",
    "        al.append(alphabets[i]+alphabets[s])\n",
    "\n",
    "alphabets.extend(al)\n",
    "#print(alphabets)\n",
    "\n"
   ]
  },
  {
   "cell_type": "code",
   "execution_count": 3,
   "metadata": {},
   "outputs": [],
   "source": [
    "interm=alphabets[:26]\n",
    "#print(interm)\n",
    "interm1=alphabets[26:]\n",
    "#print(interm1)"
   ]
  },
  {
   "cell_type": "code",
   "execution_count": 4,
   "metadata": {},
   "outputs": [],
   "source": [
    "all=[]\n",
    "for i,j in enumerate(interm):\n",
    "    for s,t in enumerate(interm1):\n",
    "        #print(s)\n",
    "        all.append(interm[i]+interm1[s])\n",
    "#print(all)        "
   ]
  },
  {
   "cell_type": "code",
   "execution_count": 10,
   "metadata": {},
   "outputs": [],
   "source": [
    "alphabets.extend(all)\n",
    "#print(alphabets)"
   ]
  },
  {
   "cell_type": "code",
   "execution_count": 14,
   "metadata": {},
   "outputs": [],
   "source": [
    "# function defination\n",
    "\n",
    "def get_excel_column_number(column_name):\n",
    "    column_number=alphabets.index(column_name)\n",
    "    return (column_number)\n",
    "\n",
    "def input_col_name():\n",
    "    a=input('enter the column name')\n",
    "    col_num=get_excel_column_number(a)\n",
    "    print('the number for the gicen column name {} is {}'.format(a,col_num))\n",
    "    "
   ]
  },
  {
   "cell_type": "code",
   "execution_count": 18,
   "metadata": {},
   "outputs": [
    {
     "name": "stdout",
     "output_type": "stream",
     "text": [
      "enter the column nameAAA\n",
      "the number for the gicen column name AAA is 703\n"
     ]
    }
   ],
   "source": [
    "# function call\n",
    "\n",
    "input_col_name()"
   ]
  },
  {
   "cell_type": "code",
   "execution_count": 19,
   "metadata": {
    "id": "VFSrFUwP-zdd"
   },
   "outputs": [
    {
     "name": "stdout",
     "output_type": "stream",
     "text": [
      "56\n"
     ]
    }
   ],
   "source": [
    "# Check\n",
    "col_num=get_excel_column_number('BD')\n",
    "print(col_num)"
   ]
  },
  {
   "cell_type": "code",
   "execution_count": 20,
   "metadata": {
    "id": "AZaQlyAc-zde"
   },
   "outputs": [
    {
     "name": "stdout",
     "output_type": "stream",
     "text": [
      "1005\n"
     ]
    }
   ],
   "source": [
    "# Check\n",
    "col_num=get_excel_column_number('ALQ')\n",
    "print(col_num)"
   ]
  },
  {
   "cell_type": "markdown",
   "metadata": {
    "id": "zh_MA_BN-zd5"
   },
   "source": [
    "# <u> Problem 2</u>\n",
    "\n",
    "### We evaluate a standard machine learning classification model using various evaluation metrics. A classification model is a model which classifies a given observation or an event to a fixed set of categories. Suppose I train a machine learning model to classify images of cats and dogs. For each image, the machine classifies the image with either a <code>'Cat'</code> or a <code>'Dog'</code>. So in essence for each input image, there is a corresponding output by the model. This output can either be a <code>'Cat'</code> or a <code>'Dog'</code>.\n",
    "\n",
    "### To evaluate such a machine learning model which is trained to classify a given observation with at most two labels, a lot of candidate evaluation metrics are available. Accuracy is one of such evaluation metrics. \n",
    "\n",
    "### <u> Accuracy defintion </u> : Suppose you are given 20 input images of cats and dogs. You already know from these images that there are 11 cats and 9 dogs. You train a machine learning model to classify these images into cats and dogs. The machine predicts 9 cats correctly and 8 dogs correctly. The accuracy of the model is then defined as (correctly predicted cats and dogs)/(total cats and dogs). In this case it is (9+8)/(11+9) = 17/20 = 0.85 or 85%. It is a good practice to report the accuracy in percentages\n",
    "\n"
   ]
  },
  {
   "cell_type": "markdown",
   "metadata": {
    "id": "cp2SUazju_D7"
   },
   "source": [
    "### You are given two lists each of length 20 : one list contains the actual labels for the images of cats and dogs. The other list contains the predicted labels (by the machine) for the images of cats and dogs.\n",
    "\n",
    "### How to read the two lists ? For example for the first image, actual label is Cat and the predicted label is Cat. For the last image, actual label is Dog and the predicted label is Cat. The same index in the two lists corresponds to the same image"
   ]
  },
  {
   "cell_type": "code",
   "execution_count": 21,
   "metadata": {
    "id": "BPsQbNPjvjAT"
   },
   "outputs": [],
   "source": [
    "actual_labels = ['Cat','Dog','Cat','Cat','Dog','Cat','Dog','Cat','Cat','Cat','Dog','Dog','Cat','Cat','Cat','Dog','Dog','Dog','Cat','Dog']"
   ]
  },
  {
   "cell_type": "code",
   "execution_count": 22,
   "metadata": {
    "id": "MDefeYf1v4pT"
   },
   "outputs": [],
   "source": [
    "predicted_labels = ['Cat','Dog','Cat','Cat','Dog','Cat','Dog','Cat','Dog','Dog','Dog','Dog','Cat','Cat','Cat','Dog','Dog','Dog','Cat','Cat']"
   ]
  },
  {
   "cell_type": "markdown",
   "metadata": {
    "id": "hzLROuvWwZAL"
   },
   "source": [
    "### Write a function to calculate the accuracy. This functions takes two lists as inputs and returns the accuracy score in percentage"
   ]
  },
  {
   "cell_type": "code",
   "execution_count": 30,
   "metadata": {
    "id": "HvDJXfL3-zd6"
   },
   "outputs": [
    {
     "name": "stdout",
     "output_type": "stream",
     "text": [
      "the accuracy of the model is 85.0%\n"
     ]
    }
   ],
   "source": [
    "def calculate_accuracy(actual, predicted):\n",
    "    '''\n",
    "  This functions calculates the accuracy based on two input lists\n",
    "  '''\n",
    "\n",
    "  # Write your code here\n",
    "    count=0; s=0\n",
    "    for i,j in enumerate(actual):\n",
    "        if actual[i]==predicted[i]:\n",
    "            count=count+1\n",
    "        else:\n",
    "            s=s+1\n",
    "    model_accuracy=count*100/20\n",
    "    return model_accuracy\n",
    "\n",
    "\n",
    "qq=calculate_accuracy(actual_labels,predicted_labels)\n",
    "\n",
    "\n",
    "\n",
    "\n"
   ]
  },
  {
   "cell_type": "code",
   "execution_count": 32,
   "metadata": {
    "id": "At0m0hcc-zd_"
   },
   "outputs": [
    {
     "name": "stdout",
     "output_type": "stream",
     "text": [
      "the accuracy score of the model is 85.0%\n"
     ]
    }
   ],
   "source": [
    "# Print the accuracy score for the given lists\n",
    "print('the accuracy score of the model is {}%'.format(qq))"
   ]
  },
  {
   "cell_type": "markdown",
   "metadata": {
    "id": "YyYwXAlax36r"
   },
   "source": [
    "* ### <b><u>Precision</u></b> for cats is defined as the number of correctly predicted cats divided by the number of predicted cats. Report precision in percentages.\n",
    "\n",
    "* ### <b><u>Recall</u></b> for cats is defined as the number of correctly predicted cats divided by the actual number of cats. Report recall in percentages.\n",
    "\n",
    "### We can define the same two metrics for dogs as well. \n"
   ]
  },
  {
   "cell_type": "markdown",
   "metadata": {
    "id": "VwYIek-9yd4n"
   },
   "source": [
    "# <u> Problem 3 </u> \n",
    "\n",
    "### Write a Python function which returns the precision and recall for a given input label. Use the same two lists"
   ]
  },
  {
   "cell_type": "code",
   "execution_count": 53,
   "metadata": {
    "id": "SojiZTMSyY4T"
   },
   "outputs": [
    {
     "name": "stdout",
     "output_type": "stream",
     "text": [
      "the precision for the label is 80.0\n",
      "the recall for the label is 88.88888888888889\n"
     ]
    }
   ],
   "source": [
    "def precision_recall(label = 'Dog'):\n",
    "    '''\n",
    "  This functions returns a tuple of precision and recall for a given input label\n",
    "  '''\n",
    "  # Your code here\n",
    "    count=0\n",
    "    s=0\n",
    "    l=0\n",
    "\n",
    "    for i,j in enumerate(actual_labels):\n",
    "        if actual_labels[i]==label and predicted_labels[i]==label:\n",
    "            count=count+1\n",
    "        \n",
    "        if predicted_labels[i]==label:\n",
    "            s=s+1\n",
    "        if actual_labels[i]==label:\n",
    "            l=l+1\n",
    "    \n",
    "    precision_=count*100/s\n",
    "   \n",
    "    recall_=count*100/l   \n",
    "    return precision_,recall_\n",
    "            \n",
    "        \n",
    "\n",
    "pp,rr=precision_recall()\n",
    "\n",
    "print('the precision for the label is {}'.format(pp))\n",
    "print('the recall for the label is {}'.format(rr))\n",
    "\n",
    "\n",
    "\n",
    "\n",
    "  "
   ]
  },
  {
   "cell_type": "markdown",
   "metadata": {
    "id": "I-5eBWXa1Mla"
   },
   "source": [
    "# <u> Problem 4 </u>\n",
    "\n",
    "### Write a Python function which takes a sentence and a length value as inputs and returns the counts of those words from the sentence whose length is equal to the provided input length value.\n",
    "\n",
    "### Suppose if the input for the length value is 5, it will return the count of all those words which are of length 5"
   ]
  },
  {
   "cell_type": "code",
   "execution_count": 90,
   "metadata": {
    "id": "9ueu9nJx1uUZ"
   },
   "outputs": [],
   "source": [
    "marvel_quote = \"The world has changed and none of us can go back. All we can do is our best, and sometimes the best that we can do is to start over.\""
   ]
  },
  {
   "cell_type": "code",
   "execution_count": 96,
   "metadata": {
    "id": "9OPAUOCT2VQW"
   },
   "outputs": [
    {
     "name": "stdout",
     "output_type": "stream",
     "text": [
      "2\n",
      "None\n"
     ]
    }
   ],
   "source": [
    "# Your function below. Make sure to remove the special characters such as full stop and comma.\n",
    "def fixed_length_word_counts(sentence, length=3):\n",
    "    '''\n",
    "  This function returns the count of the words with the given input length\n",
    "  '''\n",
    "  # Your code below\n",
    "    count=0\n",
    "    sentence.replace(',','').replace('.','')\n",
    "    ss=sentence.split()\n",
    "    for i,j in enumerate(ss):\n",
    "        if len(ss[i])==length:\n",
    "            count=count+1\n",
    "        \n",
    "    print(count)    \n",
    "        \n",
    "       \n",
    "    \n",
    "    \n",
    "  \n",
    "\n",
    "cc=fixed_length_word_counts(ss,7)\n",
    "\n",
    "print(cc)\n",
    "\n",
    "\n",
    "\n"
   ]
  },
  {
   "cell_type": "code",
   "execution_count": 94,
   "metadata": {},
   "outputs": [],
   "source": [
    "ss='this is my string showing varying length of words now we can count the nn aa words nnn mm cc'"
   ]
  },
  {
   "cell_type": "code",
   "execution_count": null,
   "metadata": {},
   "outputs": [],
   "source": []
  }
 ],
 "metadata": {
  "colab": {
   "collapsed_sections": [],
   "name": "Assignment - Functions & Methods.ipynb",
   "provenance": []
  },
  "kernelspec": {
   "display_name": "Python 3 (ipykernel)",
   "language": "python",
   "name": "python3"
  },
  "language_info": {
   "codemirror_mode": {
    "name": "ipython",
    "version": 3
   },
   "file_extension": ".py",
   "mimetype": "text/x-python",
   "name": "python",
   "nbconvert_exporter": "python",
   "pygments_lexer": "ipython3",
   "version": "3.9.7"
  }
 },
 "nbformat": 4,
 "nbformat_minor": 1
}
