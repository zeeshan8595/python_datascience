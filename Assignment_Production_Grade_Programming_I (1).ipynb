{
 "cells": [
  {
   "cell_type": "markdown",
   "metadata": {
    "id": "8WbUJEVzs8Bx"
   },
   "source": [
    "## <u>While doing this assignment only use those concepts which have been taught till now</u>"
   ]
  },
  {
   "cell_type": "markdown",
   "metadata": {
    "id": "77zLnpaNvNSp"
   },
   "source": [
    "# <u> Problem 1</u>\n",
    "\n",
    "### Create a class <code>Cylinder</code> which takes two attributes <code>radius</code> and <code>height</code>.\n",
    "\n",
    "### Create the following methods in this class:\n",
    "\n",
    "* ### method <code>volume()</code> which calculates the volume of the cyinder which is defined as $V  = \\pi r^2 h$\n",
    "\n",
    "* ### method <code>surface_area()</code> which calculates the area of the cyinder which is defined as $S  = 2\\pi r h$. Assume this is an open cylinder\n"
   ]
  },
  {
   "cell_type": "code",
   "execution_count": 1,
   "metadata": {
    "id": "-cWkCZ5OzX0G"
   },
   "outputs": [],
   "source": [
    "# Write your code below. Take pi as 3.14\n",
    "class Cylinder:\n",
    "    def __init__(self,radius,height):\n",
    "        self.radius1=radius\n",
    "        self.height1=height\n",
    "        \n",
    "    def volume(self):\n",
    "        V=3.14*self.radius1**2\n",
    "        print(V)\n",
    "        \n",
    "    def Surface_area(self):\n",
    "        S=2*3.14*self.radius1*self.height1\n",
    "        print(S)\n",
    "        \n",
    "        "
   ]
  },
  {
   "cell_type": "code",
   "execution_count": 2,
   "metadata": {
    "id": "tgS3mhN-18b_"
   },
   "outputs": [
    {
     "name": "stdout",
     "output_type": "stream",
     "text": [
      "78.5\n",
      "314.0\n"
     ]
    }
   ],
   "source": [
    "# Check for sample inputs\n",
    "\n",
    "obj1=Cylinder(5,10)\n",
    "obj1.volume()\n",
    "obj1.Surface_area()\n",
    "\n"
   ]
  },
  {
   "cell_type": "markdown",
   "metadata": {
    "id": "KjPWYK0Rs8By"
   },
   "source": [
    "## <u>Problem 2</u>\n",
    "\n",
    "### You started your own money wallet where your customers can create their accounts and they can either deposit or withdraw money from this wallet.\n",
    "\n",
    "### Write a Python class <code>BankAccount</code> which takes the balance as an attribute. You can initialize the balance with 0 because any new account will have 0 rupees in their wallet. Next write two methods for your class :\n",
    "\n",
    "* #### <code>withdraw()</code> method which takes the amount to be withdrawn as an argument and returns the balance after the withdrawal\n",
    "\n",
    "* #### <code>deposit()</code> method which takes the amount to be deposited as an argument and returns the balance after the deposit.\n",
    "\n",
    "### Keep in mind that if the balance to be withdrawn exceeds the current balance, it should display a message that \"Not enough balance in your account\"\n"
   ]
  },
  {
   "cell_type": "code",
   "execution_count": 3,
   "metadata": {
    "id": "RxVZTrenzfHC"
   },
   "outputs": [],
   "source": [
    "# Write your BankAccount class below \n",
    "\n",
    "class BankAccount:\n",
    "    def __init__(self,Cust_Name,Acc_no,amount=0,Balance=0):\n",
    "        self.Cust_Name=Cust_Name\n",
    "        self.Acc_no=Acc_no\n",
    "        self.Balance=Balance\n",
    "        self.amount=amount\n",
    "        \n",
    "    def withdraw(self,amount):\n",
    "        self.amount=amount\n",
    "        if self.amount > self.Balance:\n",
    "            print('insufficient funds in your Account')\n",
    "        else:\n",
    "            self.Balance=self.Balance-self.amount\n",
    "            print('Hello! {} the amount withdrawn is {} and the availaible balance in your ACC {} is {}'.format(self.Cust_Name,self.amount,self.Acc_no,self.Balance))\n",
    "        \n",
    "    def deposit(self,amount):\n",
    "        self.amount=amount\n",
    "        self.Balance=self.Balance+self.amount\n",
    "        print('Hello! {} the amount Deposited is {} and the availaible balance in your ACC {} is {}'.format(self.Cust_Name,self.amount,self.Acc_no,self.Balance))\n"
   ]
  },
  {
   "cell_type": "code",
   "execution_count": 4,
   "metadata": {
    "id": "N1Yhpkiws8B3"
   },
   "outputs": [],
   "source": [
    "# Create two instances of this class for two customers\n",
    "\n",
    "cust1=BankAccount('sheeba',12345)\n",
    "c2=BankAccount('Ayesha',56789)\n"
   ]
  },
  {
   "cell_type": "markdown",
   "metadata": {
    "id": "mSTxPcO3fWeX"
   },
   "source": [
    "### Next add some amount and withdraw some another amount for both the customers."
   ]
  },
  {
   "cell_type": "code",
   "execution_count": 5,
   "metadata": {
    "id": "KpMdlB5Fs8B8"
   },
   "outputs": [
    {
     "name": "stdout",
     "output_type": "stream",
     "text": [
      "Hello! sheeba the amount Deposited is 5000000 and the availaible balance in your ACC 12345 is 5000000\n",
      "Hello! sheeba the amount withdrawn is 30300 and the availaible balance in your ACC 12345 is 4969700\n",
      "Hello! Ayesha the amount Deposited is 100000 and the availaible balance in your ACC 56789 is 100000\n",
      "Hello! Ayesha the amount withdrawn is 3276 and the availaible balance in your ACC 56789 is 96724\n"
     ]
    }
   ],
   "source": [
    "# Deposit some amount and withdrawing some amount from the two accounts and check if your method works fine\n",
    "\n",
    "cust1.deposit(5000000)\n",
    "cust1.withdraw(30300)\n",
    "\n",
    "c2.deposit(100000)\n",
    "c2.withdraw(3276)\n"
   ]
  },
  {
   "cell_type": "markdown",
   "metadata": {
    "id": "5qd8g8UUs8CM"
   },
   "source": [
    "## <u>Problem 3 </u>\n",
    "\n",
    "### Create a class <code>Time </code> which takes two inputs hours and minutes to instantiate.\n",
    "*  #### Construct a method <code>DisplayTime()</code> which displays the time in AM/PM formats. For example if the input is 14 hours and 45 mins, then this method will print \"The time is 2:45 PM\". If the inputted hours exceeds 23 then print the message \"The input hours should be less than 24\" and if the inputted minutes exceeds 59 then print the message \"The input minutes should be less than 60.\" Also if the input is 12 hours 30 minutes, then the displayed time would be 12:30 PM\n",
    "* #### Construct a method <code>DisplayRatio()</code> which should display the ratio of minutes to hours. For example, (8 hours and  16 mins) should display 2. Use <code>try</code>, <code>except</code> block to account for ZeroDivisionError."
   ]
  },
  {
   "cell_type": "code",
   "execution_count": 183,
   "metadata": {
    "id": "FBJy9Sq_s8CN"
   },
   "outputs": [],
   "source": [
    "class Time:\n",
    "    def __init__(self,hrs,mins):\n",
    "        self.hrs=hrs\n",
    "        self.mins=mins\n",
    "        \n",
    "    def DisplayTime(self):\n",
    "        hrs_dict={00:12,1:1,2:2,3:3,4:4,5:5,6:6,7:7,8:8,9:9,10:10,11:11,12:12,13:1,14:2,15:3,16:4,17:5,18:6,19:7,20:8,21:9,22:10,23:11}\n",
    "        if self.hrs in range (0,12):\n",
    "                formatt='AM'\n",
    "        else:\n",
    "                formatt='PM'\n",
    "        \n",
    "        if self.hrs in range(0,25):\n",
    "            \n",
    "                self.hrs=hrs_dict[self.hrs]\n",
    "                \n",
    "                if self.mins in range(0 , 61):\n",
    "                    print('the time is {}:{}:{}'.format(self.hrs,self.mins,formatt))\n",
    "                else:\n",
    "                    print('enter valid minutes')\n",
    "        else:\n",
    "            print('enter valid hrs')\n",
    "            \n",
    "            \n",
    "    def DisplayRatio(self):\n",
    "        rr=self.hrs/self.mins\n",
    "        print('the time ratio is ',rr)\n",
    "            \n",
    "          "
   ]
  },
  {
   "cell_type": "code",
   "execution_count": 184,
   "metadata": {},
   "outputs": [
    {
     "name": "stdout",
     "output_type": "stream",
     "text": [
      "the time is 12:22:AM\n",
      "the time ratio is  0.5454545454545454\n"
     ]
    }
   ],
   "source": [
    "tt=Time(00 ,22)\n",
    "tt.DisplayTime()\n",
    "tt.DisplayRatio()"
   ]
  },
  {
   "cell_type": "code",
   "execution_count": 174,
   "metadata": {
    "id": "zywXa51d6Eev"
   },
   "outputs": [
    {
     "name": "stdout",
     "output_type": "stream",
     "text": [
      "the time is 11:45:PM\n",
      "enter valid hrs\n",
      "the time is 12:34:PM\n",
      "enter valid minutes\n",
      "the time is 7:20:PM\n",
      "the time is 2:15:AM\n",
      "the time is 12:10:AM\n"
     ]
    }
   ],
   "source": [
    "# Check for few sample inputs of hours and mins\n",
    "hour_min_list = [(23,45), (34,50), (12,34), (14,67),(19,20), (2,15), (0, 10)]\n",
    "\n",
    "# Using a for loop display the corresponding 12 hour time format for the above hour_min_list\n",
    "\n",
    "for i in range(len(hour_min_list)):\n",
    "    t1=(hour_min_list[i])\n",
    "    tt=Time(t1[0] ,t1[1])\n",
    "    tt.DisplayTime()\n",
    "    \n",
    "\n",
    "\n",
    "\n",
    "# Also display the corresponding ratios for the above list\n",
    "\n",
    "\n"
   ]
  },
  {
   "cell_type": "code",
   "execution_count": null,
   "metadata": {},
   "outputs": [],
   "source": []
  }
 ],
 "metadata": {
  "colab": {
   "collapsed_sections": [],
   "name": "Assignment  - Production Grade Programming I.ipynb",
   "provenance": []
  },
  "kernelspec": {
   "display_name": "Python 3 (ipykernel)",
   "language": "python",
   "name": "python3"
  },
  "language_info": {
   "codemirror_mode": {
    "name": "ipython",
    "version": 3
   },
   "file_extension": ".py",
   "mimetype": "text/x-python",
   "name": "python",
   "nbconvert_exporter": "python",
   "pygments_lexer": "ipython3",
   "version": "3.9.7"
  }
 },
 "nbformat": 4,
 "nbformat_minor": 1
}
